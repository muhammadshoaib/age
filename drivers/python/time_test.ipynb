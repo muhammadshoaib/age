{
 "cells": [
  {
   "attachments": {},
   "cell_type": "markdown",
   "metadata": {},
   "source": [
    "## Time Complexity Test"
   ]
  },
  {
   "cell_type": "code",
   "execution_count": 1,
   "metadata": {},
   "outputs": [],
   "source": [
    "import psycopg2\n",
    "from moontasir_code import *\n",
    "import random\n",
    "import time\n",
    "from nx_age import *\n",
    "\n",
    "# set DB path and graph name\n",
    "conn = psycopg2.connect(\n",
    "    host=\"localhost\",\n",
    "    port=\"5432\",\n",
    "    dbname=\"tee_demodb\",\n",
    "    user=\"tito\",\n",
    "    password=\"jacz\")\n",
    "\n",
    "GRAPH_NAME = 'bitnine'\n",
    "DSN = \"host=localhost port=5432 dbname=tee_demodb user=tito password=Tuoyo_1996\""
   ]
  },
  {
   "attachments": {},
   "cell_type": "markdown",
   "metadata": {},
   "source": [
    "## NetworkX to AGE"
   ]
  },
  {
   "cell_type": "code",
   "execution_count": 2,
   "metadata": {},
   "outputs": [
    {
     "name": "stdout",
     "output_type": "stream",
     "text": [
      "DiGraph with 4000 nodes and 7996 edges\n"
     ]
    }
   ],
   "source": [
    "number_of_nodes = 4000\n",
    "number_of_edges = 8000\n",
    "\n",
    "# Create an empty graph\n",
    "G = nx.DiGraph()\n",
    "\n",
    "for i in range(number_of_nodes):\n",
    "    G.add_node(i,\n",
    "               label='People',\n",
    "               properties={'id': i, 'weight': i*2+20})\n",
    "\n",
    "for i in range(number_of_edges):\n",
    "    a = 0\n",
    "    b = 0\n",
    "    while(a==b):\n",
    "        a = random_number = random.randint(0, number_of_nodes-1)\n",
    "        b = random_number = random.randint(0, number_of_nodes-1)\n",
    "    \n",
    "    G.add_edge(a, b, label='Connection',\n",
    "        properties={'firstMeet': 'Jan-21-2019', 'start_id' : a, 'end_id' : b})\n",
    "print(G)"
   ]
  },
  {
   "cell_type": "code",
   "execution_count": 3,
   "metadata": {},
   "outputs": [
    {
     "name": "stdout",
     "output_type": "stream",
     "text": [
      "500  nodes created\n",
      "1000  nodes created\n",
      "1500  nodes created\n",
      "2000  nodes created\n",
      "2500  nodes created\n",
      "3000  nodes created\n",
      "3500  nodes created\n",
      "4000  nodes created\n",
      "ADDED : 1000  Edges\n",
      "ADDED : 2000  Edges\n",
      "ADDED : 3000  Edges\n",
      "ADDED : 4000  Edges\n",
      "ADDED : 5000  Edges\n",
      "ADDED : 6000  Edges\n",
      "ADDED : 7000  Edges\n",
      "ADDED : 7996  Edges\n",
      "Elapsed time to load into AGE: 6.04s\n"
     ]
    }
   ],
   "source": [
    "age.setUpAge(conn, GRAPH_NAME)\n",
    "age.deleteGraph(conn, GRAPH_NAME)\n",
    "age.setUpAge(conn, GRAPH_NAME)\n",
    "\n",
    "start_time = time.perf_counter()\n",
    "\n",
    "networkxToAge(conn, G, GRAPH_NAME=GRAPH_NAME)\n",
    "\n",
    "now_time = time.perf_counter()\n",
    "elapsed_time_ms = (now_time - start_time)\n",
    "print(f'Elapsed time to load into AGE: {elapsed_time_ms:.2f}s')"
   ]
  },
  {
   "attachments": {},
   "cell_type": "markdown",
   "metadata": {},
   "source": [
    "## AGE to NetworkX"
   ]
  },
  {
   "cell_type": "code",
   "execution_count": 4,
   "metadata": {},
   "outputs": [
    {
     "name": "stdout",
     "output_type": "stream",
     "text": [
      "DiGraph with 4000 nodes and 7996 edges\n",
      "Elapsed time to load into NetworkX:10.02s\n"
     ]
    }
   ],
   "source": [
    "start_time = time.perf_counter()\n",
    "\n",
    "Gnx = load_to_networkx(graph_name=GRAPH_NAME, DSN=DSN)\n",
    "print (Gnx)\n",
    "\n",
    "now_time = time.perf_counter()\n",
    "elapsed_time_ms = (now_time - start_time)\n",
    "print(f'Elapsed time to load into NetworkX:{elapsed_time_ms:.2f}s')"
   ]
  }
 ],
 "metadata": {
  "kernelspec": {
   "display_name": "Python 3",
   "language": "python",
   "name": "python3"
  },
  "language_info": {
   "codemirror_mode": {
    "name": "ipython",
    "version": 3
   },
   "file_extension": ".py",
   "mimetype": "text/x-python",
   "name": "python",
   "nbconvert_exporter": "python",
   "pygments_lexer": "ipython3",
   "version": "3.11.3"
  },
  "orig_nbformat": 4
 },
 "nbformat": 4,
 "nbformat_minor": 2
}
